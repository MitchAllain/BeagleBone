{
 "cells": [
  {
   "cell_type": "code",
   "execution_count": 1,
   "metadata": {
    "collapsed": true,
    "deletable": true,
    "editable": true
   },
   "outputs": [],
   "source": [
    "%matplotlib inline"
   ]
  },
  {
   "cell_type": "code",
   "execution_count": 2,
   "metadata": {
    "collapsed": true,
    "deletable": true,
    "editable": true
   },
   "outputs": [],
   "source": [
    "import numpy as np\n",
    "import matplotlib.pyplot as plt\n",
    "import sympy as sp\n",
    "import pandas as pd"
   ]
  },
  {
   "cell_type": "markdown",
   "metadata": {},
   "source": [
    "WARNING: I found many mistakes in this document on 04/22/17. It will need to be carefully reviewed again."
   ]
  },
  {
   "cell_type": "markdown",
   "metadata": {
    "deletable": true,
    "editable": true
   },
   "source": [
    "# Developing the constitutive equations for a single actuator\n",
    "\n",
    "The development is based on my previous work, \"Dynamic Modeling, Uncertainty, and Controller Design for Hydraulic Manipulator Trajectory Following\".\n",
    "\n",
    "## Pressure-Flow Dynamics\n",
    "\n",
    "The flow through any orifice in the valve is given by the classical *orifice equation*:\n",
    "\n",
    "$$Q = A C_d \\sqrt{\\frac{2}{\\rho}|\\Delta P_{ij}|} \\ sgn(\\Delta P_{ij}))$$\n",
    "\n",
    "where $\\Delta P_{ij}$ is the pressure differential across the orifice, $C_d$ is the empirical orifice discharge coefficient, $\\rho$ is the fluid density, and A is the valve discharge area (i.e., a function of spool displacement, or in the case of the toy excavator, rotary valve angle).\n",
    "\n",
    "Four such equations are necessary to characterize the four-port spool valves on each hydraulic actuator.\n",
    "\n",
    "The relationship between spool position and orifice area, $A(s)$, is largely dependent on the type of valve, but here we will consider a open-center valve with\n",
    "\n",
    "## Fluid Dynamics\n",
    "\n",
    "The mass of fluid in the cap-end of the cylinder is described by:\n",
    "\n",
    "$$m_A = \\rho V_A$$\n",
    "\n",
    "Further, if we consider fluid compressibility, the rate of change of mass is expressed by:\n",
    "\n",
    "$$\\dot{m}_A = \\rho \\dot{V}_A + \\dot{\\rho} V_A$$\n",
    "\n",
    "### Fluid Compressibility in Cylinder\n",
    "\n",
    "Compressibility is described by the fluid bulk modulus, $\\beta$, and the following PDE:\n",
    "\n",
    "$$\\beta = \\rho \\left( \\frac{\\partial P}{\\partial \\rho} \\right)$$\n",
    "\n",
    "which at constant temperature, can be expressed as:\n",
    "\n",
    "$$\\beta \\approx \\rho \\frac{\\dot{P}}{\\dot{\\rho}}$$\n",
    "\n",
    "## Flow Continuity\n",
    "\n",
    "Compressibility is neglected for incoming fluid, giving the following:\n",
    "\n",
    "$$\\dot{m}_A = \\rho Q_A$$\n",
    "\n",
    "$$ Q_A = Q_{SA} - Q_{AR}$$\n",
    "\n",
    "The rod position and velocity in the cylinder are given by:\n",
    "\n",
    "$$V_A = A_{p,A}x + V_{A0}$$\n",
    "\n",
    "$$\\dot{V}_A = A_{p,A}\\dot{x}$$\n",
    "\n",
    "where $A_{p,A}$ is the cap-end pressurized area.\n",
    "\n",
    "Synthesizing the above equations, we have:\n",
    "\n",
    "$$\\dot{P}_A = \\frac{\\beta}{A_{p,A}x+V_{A0}}(Q_{SA} - Q_{AR} - A_{p,A}\\dot{x})$$\n",
    "\n",
    "## Actuator Mechanics\n",
    "\n",
    "For the purposes of our controller development we will consider inertial forces and digging forces on the actuator to be a lumped disturbance, $F_d$. Therefore,\n",
    "\n",
    "$$\\sum F = m\\ddot{x} = P_A A_{p,A} - P_B A_{p,B} - F_d - b\\dot{x}$$\n",
    "\n"
   ]
  },
  {
   "cell_type": "markdown",
   "metadata": {},
   "source": [
    "___"
   ]
  },
  {
   "cell_type": "markdown",
   "metadata": {
    "deletable": true,
    "editable": true
   },
   "source": [
    "# State Equations\n",
    "\n",
    "Let us first define our states:\n",
    "\n",
    "$x_1$ is rod position\n",
    "\n",
    "$x_2 = \\dot{x}_1$ (rod velocity)\n",
    "\n",
    "$x_3 = P_{A}$ (cap-end (A) pressure) \n",
    "\n",
    "$x_4 = P_{B}$ (rod-end (B) pressure)\n",
    "\n",
    "$$\\dot{x}_1 = x_2$$\n",
    "\n",
    "$$\\dot{x}_2 = \\frac{1}{m_{rod}+m_{load}}(x_3 A_{p,A}-x_4 A_{p,B} - F_L - bx_2)$$\n",
    "\n",
    "$$\\dot{x}_3 = \\frac{\\beta}{A_{p,A} x_1 + V_{A0}}(Q_{SA}-Q_{AR}-A_{p,A}x_2)$$\n",
    "\n",
    "$$\\dot{x}_4 = \\frac{\\beta}{V_{B0} + A_{p,B} (stroke - x_1)}(Q_{SB}-Q_{BR}+A_{p,B}x_2)$$"
   ]
  },
  {
   "cell_type": "markdown",
   "metadata": {
    "deletable": true,
    "editable": true
   },
   "source": [
    "# Linearization\n",
    "\n",
    "Let's repeat the above in Sympy, so that we can take the Jacobian."
   ]
  },
  {
   "cell_type": "code",
   "execution_count": null,
   "metadata": {
    "collapsed": true,
    "deletable": true,
    "editable": true
   },
   "outputs": [],
   "source": [
    "x1, x2, x3, x4 = sp.symbols('x1 x2 x3 x4')"
   ]
  },
  {
   "cell_type": "markdown",
   "metadata": {
    "deletable": true,
    "editable": true
   },
   "source": [
    "# Jacobian\n",
    "\n",
    "This is duplicated from my handwork on engr paper."
   ]
  },
  {
   "cell_type": "markdown",
   "metadata": {
    "deletable": true,
    "editable": true
   },
   "source": [
    "The Jacobian is formed as:\n",
    "\n",
    "$$\\frac{\\partial F}{\\partial x} = \n",
    "\\begin{bmatrix}\n",
    "J_{11} & J_{12} & J_{13} & J_{14} \\\\\n",
    "J_{21} & J_{22} & J_{23} & J_{24} \\\\\n",
    "J_{31} & J_{32} & J_{33} & J_{34} \\\\\n",
    "J_{41} & J_{42} & J_{43} & J_{44}\n",
    "\\end{bmatrix}_{x_1, x_2, x_3, x_4}$$\n",
    "\n",
    "where\n",
    "\n",
    "$$J_{11} = 0$$\n",
    "\n",
    "$$J_{12} = 1$$\n",
    "\n",
    "$$J_{13} = 0$$\n",
    "\n",
    "$$J_{14} = 0$$\n",
    "\n",
    "$$J_{21} = 0$$\n",
    "\n",
    "$$J_{22} = \\frac{-b}{m_r}$$\n",
    "\n",
    "$$J_{23} = \\frac{A_{p,A}}{m_r}$$\n",
    "\n",
    "$$J_{24} = \\frac{A_{p,B}}{m_r}$$\n",
    "\n",
    "$$J_{31} = -\\beta A_{p,A} \\left[ \\frac{1}{A_{p,A} x_1 + V_{A0}} - \\frac{Q_{SA} - Q_{AR} - A_{p,A} x_1}{(A_{p,A} x_1 + V_{A0})^2 } \\right]$$\n",
    "\n",
    "\n",
    "$$J_{32} = 0$$\n",
    "\n",
    "\n",
    "$$J_{33} = \\frac{\\beta C_d}{A_{p,A} x_1 + V_{A0}} \\left[ - \\frac{A_{SA}}{\\rho} \\left( \\frac{2}{\\rho} \\left| P_S - x_3 \\right| \\right)^{-\\frac{1}{2}} - \\frac{A_{AR}}{\\rho} \\left( \\frac{2}{\\rho} \\left| x_3 - P_R \\right| \\right)^{-\\frac{1}{2}} \\right]$$\n",
    "\n",
    "\n",
    "$$J_{34} = 0$$\n",
    "\n",
    "\n",
    "$$J_{41} = -\\beta A_{p,B} \\left[ \\frac{1}{V_{B0} - A_{p,B} x_1} - \\frac{Q_{SB} - Q_{BR} + A_{p,B} x_1}{(V_{B0} - A_{p,B} x_1)^2} \\right]$$\n",
    "\n",
    "\n",
    "$$J_{42} = 0$$\n",
    "\n",
    "\n",
    "$$J_{43} = 0$$\n",
    "\n",
    "\n",
    "$$J_{44} = \\frac{\\beta C_d}{V_{B0} - A_{p,B} x_1} \\left[ - \\frac{A_{SB}}{\\rho} \\left( \\frac{2}{\\rho} \\left| P_S - x_4 \\right| \\right)^{-\\frac{1}{2}} - \\frac{A_{AR}}{\\rho} \\left( \\frac{2}{\\rho} \\left| x_4 - P_R \\right| \\right)^{-\\frac{1}{2}} \\right]$$"
   ]
  },
  {
   "cell_type": "code",
   "execution_count": null,
   "metadata": {
    "collapsed": true,
    "deletable": true,
    "editable": true
   },
   "outputs": [],
   "source": []
  }
 ],
 "metadata": {
  "anaconda-cloud": {},
  "kernelspec": {
   "display_name": "Python [conda root]",
   "language": "python",
   "name": "conda-root-py"
  },
  "language_info": {
   "codemirror_mode": {
    "name": "ipython",
    "version": 2
   },
   "file_extension": ".py",
   "mimetype": "text/x-python",
   "name": "python",
   "nbconvert_exporter": "python",
   "pygments_lexer": "ipython2",
   "version": "2.7.13"
  }
 },
 "nbformat": 4,
 "nbformat_minor": 1
}
