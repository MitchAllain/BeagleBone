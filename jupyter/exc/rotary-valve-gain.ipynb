{
 "cells": [
  {
   "cell_type": "markdown",
   "metadata": {
    "deletable": true,
    "editable": true
   },
   "source": [
    "# Rotary Valve Gain Table\n",
    "\n",
    "The purpose of this notook is to develop the functional relationship between valve rotation angle and flow gain and store it in a lookup table for later validation. See Valve Geometry Tests in Evernote."
   ]
  },
  {
   "cell_type": "markdown",
   "metadata": {
    "deletable": true,
    "editable": true
   },
   "source": [
    "## Valve Geometry Overview\n",
    "\n",
    "The rotary valve arrangement is a four port, three way valve (4/3). Flow is controlled by rotating the valve and adjusting the flow orifice, as shown below.\n",
    "\n",
    "<img src=\"img/valves.jpg\" width = \"600\">\n",
    "\n",
    "The solution to the overlapping circles problem is given [here](http://www.analyzemath.com/Geometry/circles_problems.html).\n",
    "\n",
    "![Alt text](http://www.analyzemath.com/Geometry/circles_problems_1.gif)"
   ]
  },
  {
   "cell_type": "markdown",
   "metadata": {
    "deletable": true,
    "editable": true
   },
   "source": [
    "The solution involves doubling the (sector area - triangle area) as shown in\n",
    "\n",
    "![Alt text](http://www.analyzemath.com/Geometry/circles_problems_2.gif)"
   ]
  },
  {
   "cell_type": "markdown",
   "metadata": {
    "deletable": true,
    "editable": true
   },
   "source": [
    "So, with $\\theta$ representing the angle BOM, if sector area is\n",
    "\n",
    "$$A_s = r^2 \\theta$$\n",
    "\n",
    "And the triangular area is \n",
    "\n",
    "$$A_t = r^2 \\sin(\\theta) \\cos(\\theta)$$\n",
    "\n",
    "Then the total overlapping area is\n",
    "\n",
    "$$ A = 2 (A_s - A_t) = r^2 [2\\theta - \\sin(\\theta) \\cos(\\theta)] $$\n",
    "\n",
    "where $\\theta$ is\n",
    "\n",
    "$$\\theta = \\arccos\\left(\\frac{r - d/2}{r}\\right) $$\n",
    "\n",
    "where $d$ is the overlap distance."
   ]
  },
  {
   "cell_type": "code",
   "execution_count": 1,
   "metadata": {
    "collapsed": true,
    "deletable": true,
    "editable": true
   },
   "outputs": [],
   "source": [
    "import numpy as np"
   ]
  },
  {
   "cell_type": "code",
   "execution_count": 2,
   "metadata": {
    "collapsed": false,
    "deletable": true,
    "editable": true
   },
   "outputs": [],
   "source": [
    "def compute_orifice_area(d, r):\n",
    "    theta = np.arccos((r - (d / 2.0)) / r)\n",
    "    area_s = r**2 * theta\n",
    "    area_t = r**2 * np.sin(theta) * np.cos(theta)\n",
    "    return 2.0 * (area_s - area_t)"
   ]
  },
  {
   "cell_type": "code",
   "execution_count": 3,
   "metadata": {
    "collapsed": false,
    "deletable": true,
    "editable": true
   },
   "outputs": [
    {
     "name": "stdout",
     "output_type": "stream",
     "text": [
      "Overlap: 8.61 cm^2 of maximum 12.57 cm^2\n"
     ]
    }
   ],
   "source": [
    "test = compute_orifice_area(3, 2)\n",
    "print('Overlap: %.2f cm^2 of maximum %.2f cm^2' % (test, 4*np.pi))"
   ]
  },
  {
   "cell_type": "code",
   "execution_count": 4,
   "metadata": {
    "collapsed": false,
    "deletable": true,
    "editable": true
   },
   "outputs": [
    {
     "data": {
      "text/plain": [
       "(array([ 0. ,  0.1,  0.2,  0.3,  0.4,  0.5,  0.6,  0.7,  0.8,  0.9,  1. ,\n",
       "         1.1,  1.2,  1.3,  1.4,  1.5,  1.6,  1.7,  1.8,  1.9,  2. ,  2.1,\n",
       "         2.2,  2.3,  2.4,  2.5,  2.6,  2.7,  2.8,  2.9,  3. ,  3.1,  3.2,\n",
       "         3.3,  3.4,  3.5,  3.6,  3.7,  3.8,  3.9,  4. ]),\n",
       " array([  0.        ,   0.05940437,   0.16738419,   0.30632929,\n",
       "          0.46980726,   0.65402365,   0.85636599,   1.07487701,\n",
       "          1.30800887,   1.55449021,   1.81324702,   2.08335204,\n",
       "          2.36399072,   2.65443726,   2.95403724,   3.2621946 ,\n",
       "          3.57836174,   3.90203175,   4.23273223,   4.57002036,\n",
       "          4.91347879,   5.26271234,   5.6173451 ,   5.97701814,\n",
       "          6.3413874 ,   6.71012199,   7.08290263,   7.45942035,\n",
       "          7.8393753 ,   8.2224757 ,   8.6084369 ,   8.99698055,\n",
       "          9.38783381,   9.78072866,  10.17540124,  10.57159122,\n",
       "         10.9690413 ,  11.36749657,  11.76670407,  12.16641228,  12.56637061]))"
      ]
     },
     "execution_count": 4,
     "metadata": {},
     "output_type": "execute_result"
    }
   ],
   "source": [
    "test2 = np.arange(0, 4.1, 0.1)\n",
    "result = compute_orifice_area(test2, 2)\n",
    "test2, result"
   ]
  },
  {
   "cell_type": "markdown",
   "metadata": {
    "deletable": true,
    "editable": true
   },
   "source": [
    "## Visualize Flow Gain without Dead Band\n",
    "\n",
    "We will consider deadband when we have experimentally validated parameters."
   ]
  },
  {
   "cell_type": "code",
   "execution_count": 5,
   "metadata": {
    "collapsed": true,
    "deletable": true,
    "editable": true
   },
   "outputs": [],
   "source": [
    "%matplotlib inline\n",
    "import matplotlib.pyplot as plt\n",
    "import matplotlib as mpl"
   ]
  },
  {
   "cell_type": "code",
   "execution_count": 6,
   "metadata": {
    "collapsed": true,
    "deletable": true,
    "editable": true
   },
   "outputs": [],
   "source": [
    "mpl.style.use('mitch-exp')"
   ]
  },
  {
   "cell_type": "code",
   "execution_count": 7,
   "metadata": {
    "collapsed": false,
    "deletable": true,
    "editable": true
   },
   "outputs": [
    {
     "data": {
      "text/plain": [
       "<matplotlib.text.Text at 0x1129bbb10>"
      ]
     },
     "execution_count": 7,
     "metadata": {},
     "output_type": "execute_result"
    },
    {
     "data": {
      "image/png": "[encoded data removed]",
      "text/plain": [
       "<matplotlib.figure.Figure at 0x112977410>"
      ]
     },
     "metadata": {},
     "output_type": "display_data"
    }
   ],
   "source": [
    "plt.plot(test2, result)\n",
    "plt.title('Valve Flow Gain')"
   ]
  },
  {
   "cell_type": "markdown",
   "metadata": {
    "deletable": true,
    "editable": true
   },
   "source": [
    "## Visualize Gain with Dead Band\n",
    "\n",
    "Normalize input to s/d, normalize area to 1"
   ]
  },
  {
   "cell_type": "code",
   "execution_count": 8,
   "metadata": {
    "collapsed": true,
    "deletable": true,
    "editable": true
   },
   "outputs": [],
   "source": [
    "def compute_area_with_deadband(s, r, s0):\n",
    "    return compute_orifice_area(s - s0, r)"
   ]
  },
  {
   "cell_type": "code",
   "execution_count": 9,
   "metadata": {
    "collapsed": false,
    "deletable": true,
    "editable": true
   },
   "outputs": [
    {
     "name": "stderr",
     "output_type": "stream",
     "text": [
      "/Users/mitchallain/anaconda/lib/python2.7/site-packages/ipykernel/__main__.py:2: RuntimeWarning: invalid value encountered in arccos\n",
      "  from ipykernel import kernelapp as app\n"
     ]
    },
    {
     "data": {
      "text/plain": [
       "(1201,)"
      ]
     },
     "execution_count": 9,
     "metadata": {},
     "output_type": "execute_result"
    }
   ],
   "source": [
    "s = np.arange(0, 1.201, 0.001)\n",
    "s0 = 0.2\n",
    "r = 0.5\n",
    "\n",
    "# Replace this hack so that RuntimeWarning is not raised\n",
    "Ar = compute_area_with_deadband(s, r, s0)\n",
    "Ar = np.nan_to_num(Ar)\n",
    "Ar = Ar / Ar[-1]\n",
    "Ar.shape"
   ]
  },
  {
   "cell_type": "markdown",
   "metadata": {
    "deletable": true,
    "editable": true
   },
   "source": [
    "## Spool Valve Gain for Comparison\n",
    "\n",
    "Pull the spool valve gain from 652 or 655 project."
   ]
  },
  {
   "cell_type": "code",
   "execution_count": 10,
   "metadata": {
    "collapsed": true,
    "deletable": true,
    "editable": true
   },
   "outputs": [],
   "source": [
    "def compute_area_spool(s, r):\n",
    "    area = r**2 * np.arccos((r - s) / r) - (r - s) * np.sqrt(2.0 * r * s - s**2)\n",
    "    return area"
   ]
  },
  {
   "cell_type": "code",
   "execution_count": 11,
   "metadata": {
    "collapsed": false,
    "deletable": true,
    "editable": true
   },
   "outputs": [
    {
     "data": {
      "text/plain": [
       "((1201,), (1201,))"
      ]
     },
     "execution_count": 11,
     "metadata": {},
     "output_type": "execute_result"
    }
   ],
   "source": [
    "spool = np.arange(0, 1.001, 0.001)\n",
    "As = compute_area_spool(spool, r)\n",
    "As_normal = As / As[-1]\n",
    "\n",
    "pad = np.arange(0, 0.2, 0.001)\n",
    "spool = np.concatenate((pad, spool + 0.2))\n",
    "As_normal = np.concatenate((pad*0, As_normal))\n",
    "spool.shape, As_normal.shape"
   ]
  },
  {
   "cell_type": "code",
   "execution_count": 12,
   "metadata": {
    "collapsed": true,
    "deletable": true,
    "editable": true
   },
   "outputs": [],
   "source": [
    "line = np.arange(0, 1.001, 0.001)\n",
    "line = np.concatenate((pad*0, line))"
   ]
  },
  {
   "cell_type": "code",
   "execution_count": 13,
   "metadata": {
    "collapsed": false,
    "deletable": true,
    "editable": true
   },
   "outputs": [
    {
     "data": {
      "text/plain": [
       "u'/Users/mitchallain/.matplotlib'"
      ]
     },
     "execution_count": 13,
     "metadata": {},
     "output_type": "execute_result"
    }
   ],
   "source": [
    "plt.style.available\n",
    "mpl.get_configdir()"
   ]
  },
  {
   "cell_type": "code",
   "execution_count": 14,
   "metadata": {
    "collapsed": false,
    "deletable": true,
    "editable": true
   },
   "outputs": [
    {
     "data": {
      "image/png": "[encoded data removed]",
      "text/plain": [
       "<matplotlib.figure.Figure at 0x112a5ab10>"
      ]
     },
     "metadata": {},
     "output_type": "display_data"
    }
   ],
   "source": [
    "plt.plot(s, Ar, linestyle='--', label='Rotary Valve', dash_capstyle='butt')\n",
    "plt.plot(s, As_normal, linestyle='-', label='Spool Valve', dash_capstyle='butt')\n",
    "plt.plot(s, line, linestyle=':', label='Linear Gain', dash_capstyle='butt')\n",
    "\n",
    "ax = plt.gca()\n",
    "ax.add_patch(mpl.patches.Rectangle((0, 0), 0.2, 3, color='g', alpha=0.2))\n",
    "ax.text(0.1, 0.21, 'dead\\nzone', fontsize=18, horizontalalignment='center')\n",
    "\n",
    "plt.title('Orifice Area Comparison')\n",
    "\n",
    "plt.legend(loc='best')\n",
    "plt.xlabel('Normalized Valve Displacement (s/d)')\n",
    "plt.ylabel('Normalized Valve Area')\n",
    "# plt.tight_layout()\n",
    "plt.savefig('figs/valve_area.pdf')\n"
   ]
  },
  {
   "cell_type": "markdown",
   "metadata": {},
   "source": [
    "## Verify MATLAB get_rotary_orifice_area()"
   ]
  },
  {
   "cell_type": "code",
   "execution_count": 16,
   "metadata": {
    "collapsed": false
   },
   "outputs": [
    {
     "data": {
      "text/plain": [
       "0.25"
      ]
     },
     "execution_count": 16,
     "metadata": {},
     "output_type": "execute_result"
    }
   ],
   "source": [
    "0.2 * 1 / 0.8"
   ]
  },
  {
   "cell_type": "code",
   "execution_count": 18,
   "metadata": {
    "collapsed": false,
    "deletable": true,
    "editable": true
   },
   "outputs": [
    {
     "data": {
      "text/plain": [
       "0.11332793849440245"
      ]
     },
     "execution_count": 18,
     "metadata": {},
     "output_type": "execute_result"
    }
   ],
   "source": [
    "compute_orifice_area(0.25, 0.5)"
   ]
  },
  {
   "cell_type": "markdown",
   "metadata": {},
   "source": [
    "Good!"
   ]
  },
  {
   "cell_type": "code",
   "execution_count": null,
   "metadata": {
    "collapsed": true
   },
   "outputs": [],
   "source": []
  }
 ],
 "metadata": {
  "kernelspec": {
   "display_name": "Python [conda root]",
   "language": "python",
   "name": "conda-root-py"
  },
  "language_info": {
   "codemirror_mode": {
    "name": "ipython",
    "version": 2
   },
   "file_extension": ".py",
   "mimetype": "text/x-python",
   "name": "python",
   "nbconvert_exporter": "python",
   "pygments_lexer": "ipython2",
   "version": "2.7.13"
  }
 },
 "nbformat": 4,
 "nbformat_minor": 2
}
