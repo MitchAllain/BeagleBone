{
 "cells": [
  {
   "cell_type": "markdown",
   "metadata": {
    "deletable": true,
    "editable": true
   },
   "source": [
    "# Single Actuator Simulation\n",
    "\n",
    "Develop the model for and simulate a single actuator."
   ]
  },
  {
   "cell_type": "code",
   "execution_count": 1,
   "metadata": {
    "collapsed": true,
    "deletable": true,
    "editable": true
   },
   "outputs": [],
   "source": [
    "%matplotlib inline\n",
    "import matplotlib.pyplot as plt\n",
    "import matplotlib as mpl\n",
    "import numpy as np\n",
    "\n",
    "mpl.style.use('mitch-exp')"
   ]
  },
  {
   "cell_type": "markdown",
   "metadata": {
    "deletable": true,
    "editable": true
   },
   "source": [
    "## State Equations\n",
    "\n",
    "Let us first define our states:\n",
    "\n",
    "$x_1 = $ rod position\n",
    "\n",
    "$x_2 = \\dot{x}_1$ (rod velocity)\n",
    "\n",
    "$x_3 = P_{A}$ (cap-end (A) pressure) \n",
    "\n",
    "$x_4 = P_{B}$ (rod-end (B) pressure)\n",
    "\n",
    "$$\\dot{x}_1 = x_2$$\n",
    "\n",
    "$$\\dot{x}_2 = \\frac{1}{m_{rod}+m_{load}}(x_3 A_{p,A}-x_4 A_{p,B} - F_L - bx_2)$$\n",
    "\n",
    "$$\\dot{x}_3 = \\frac{\\beta}{A_{p,A} x_1 + V_{A0}}(Q_{SA}-Q_{AR}-A_{p,A}x_2)$$\n",
    "\n",
    "$$\\dot{x}_4 = \\frac{\\beta}{V_{B0} + A_{p,B} (s - x_1)}(Q_{SB}-Q_{BR}+A_{p,B}x_2)$$"
   ]
  },
  {
   "cell_type": "code",
   "execution_count": 2,
   "metadata": {
    "collapsed": true,
    "deletable": true,
    "editable": true
   },
   "outputs": [],
   "source": [
    "def get_orifice_area(u, r=0.0012, deadzone=0.4):\n",
    "    ''' Compute orifice area from valve position (u from [-1, 1]),\n",
    "        deadzone (as a positive fraction of normalized input),\n",
    "        and radius r of the ports. See jupyter notebook rotary-valve-gain.ipynb'''\n",
    "    scale = 2.0 * (1 + (deadzone / (1 - deadzone))) * r\n",
    "    d = ((np.abs(u) - deadzone) * np.sign(u)) * scale\n",
    "    if d <= 0:  # if not overlapped\n",
    "        area = 0\n",
    "    else:  # overlapped\n",
    "        theta = np.arccos((r - (d / 2.0)) / r)\n",
    "        area_s = r**2 * theta\n",
    "        area_t = r**2 * np.sin(theta) * np.cos(theta)\n",
    "        area = 2.0 * (area_s - area_t)\n",
    "    return area"
   ]
  },
  {
   "cell_type": "code",
   "execution_count": 3,
   "metadata": {
    "collapsed": true,
    "deletable": true,
    "editable": true
   },
   "outputs": [],
   "source": [
    "def get_flow_through_orifice(A, Pi, Pj):\n",
    "    rho = 857  # kg/m^3 ISO grade 32\n",
    "    Cd = 0.6  # see papers for a value here\n",
    "    return A * Cd * np.sqrt((2.0 / rho) * np.abs(Pi - Pj)) * np.sign(Pi - Pj)"
   ]
  },
  {
   "cell_type": "code",
   "execution_count": 4,
   "metadata": {
    "collapsed": false,
    "deletable": true,
    "editable": true
   },
   "outputs": [
    {
     "data": {
      "text/plain": [
       "5.1270484806528759e-07"
      ]
     },
     "execution_count": 4,
     "metadata": {},
     "output_type": "execute_result"
    }
   ],
   "source": [
    "# Test things so far\n",
    "A = get_orifice_area(0.7, 0.0012)\n",
    "Q = get_flow_through_orifice(A, 100, 0)\n",
    "Q"
   ]
  },
  {
   "cell_type": "markdown",
   "metadata": {
    "deletable": true,
    "editable": true
   },
   "source": [
    "## Single Actuator Dynamic Model\n",
    "\n",
    "Develop the dynamics in a function to interface with scipy's ODE solver."
   ]
  },
  {
   "cell_type": "code",
   "execution_count": 5,
   "metadata": {
    "collapsed": false,
    "deletable": true,
    "editable": true
   },
   "outputs": [],
   "source": [
    "# Set up parameters\n",
    "pm = {'mrod': 1,  # kg, wild guess\n",
    "      'mload': 0.0,  # kg\n",
    "      'ApA': 0.0004,  # m^2\n",
    "      'ApB': 0.0003,  # m^2\n",
    "      'VA0': 2e-6,  # m^3\n",
    "      'VB0': 2e-6,  # m^3\n",
    "      'stroke': 0.14,  # m, close enough for stick actuator\n",
    "      'b': 100000,  # N*s/m\n",
    "      'beta': 1.8e9, # Pa*N / m^2 \n",
    "      'deadzone': 0.4, # dimless\n",
    "      'Ps': 4.5e5,\n",
    "      'Cd': 0.6}  # Pa, based on a 180 N max load\n",
    "\n",
    "def compute_state_derivatives(t, y, u, Fl, verbose=False):\n",
    "    ''' Compute state derivatives for a single actuator model\n",
    "    Args:\n",
    "        t (float):\n",
    "        y (array-like):\n",
    "        u (valve position): valve position on the scale [-1, 1]\n",
    "        Fl (float): external force opposing cylinder extension\n",
    "    \n",
    "    Returns:\n",
    "        yd = (np.array): derivatives\n",
    "    '''\n",
    "    # find open orifices and orifice area \n",
    "    area = get_orifice_area(u)\n",
    "    if (np.abs(u) < pm['deadzone']):\n",
    "        Qsa = Qar = Qsb = Qbr = 0\n",
    "    elif u > 0:\n",
    "        Qsa = get_flow_through_orifice(area, pm['Ps'], y[2])\n",
    "        Qbr = get_flow_through_orifice(area, y[3], 0)\n",
    "        Qar = Qsb = 0\n",
    "    elif u < 0:\n",
    "        Qar = get_flow_through_orifice(area, y[2], 0)\n",
    "        Qsb = get_flow_through_orifice(area, pm['Ps'], y[3])\n",
    "        Qsa = Qbr = 0\n",
    "\n",
    "    y0d = y[1]\n",
    "    y1d = (1 / (pm['mrod'])) * (y[2] * pm['ApA'] - y[3] * pm['ApB'] - Fl - pm['b'] * y[1])\n",
    "    y2d = (pm['beta'] / (pm['ApA'] * y[0] + pm['VA0'])) * (Qsa - Qar - pm['ApA'] * y[1])\n",
    "    y3d = (pm['beta'] / (pm['VB0'] + pm['ApB'] * (pm['stroke'] - y[0]))) * (Qsb - Qbr + pm['ApB'] * y[1])\n",
    "    \n",
    "    if verbose:\n",
    "        print('Qsa: %.2f \\nQar: %.2f \\nQsb: %.2f \\nQbr: %.2f' % (Qsa, Qar, Qsb, Qbr))\n",
    "        print('state: %s' % y)\n",
    "        print('derivatives: %s' % [[y0d, y1d, y2d, y3d]])\n",
    "    \n",
    "    return np.array([y0d, y1d, y2d, y3d])"
   ]
  },
  {
   "cell_type": "code",
   "execution_count": 12,
   "metadata": {
    "collapsed": true,
    "deletable": true,
    "editable": true
   },
   "outputs": [],
   "source": [
    "from scipy.integrate import ode\n",
    "from tqdm import tqdm"
   ]
  },
  {
   "cell_type": "code",
   "execution_count": 10,
   "metadata": {
    "collapsed": false,
    "deletable": true,
    "editable": true
   },
   "outputs": [],
   "source": [
    "def simulate_fixed_input(fd, tf, dt, u):\n",
    "    ''' Integrate dynamic equations\n",
    "    Args:\n",
    "        fd (function handle): first order derivative function\n",
    "        tf (float): total time\n",
    "        dt (float): time step\n",
    "    Returns:\n",
    "        time (np.array): time series\n",
    "        yr (np.array): integrated yr\n",
    "        u (np.array): inputs'''\n",
    "\n",
    "    yi = [.01, 0, 3.37e5, 4.5e5]\n",
    "    ti = 0\n",
    "    s = ode(fd).set_integrator('vode', method='bdf')\n",
    "    s.set_initial_value(yi, ti)\n",
    "\n",
    "    s.set_f_params(0.5, 0)\n",
    "\n",
    "    samples = int((tf - ti) / dt)\n",
    "    dim = len(yi)\n",
    "        \n",
    "    time = np.arange(ti, tf+dt, dt)\n",
    "    yr = np.zeros((samples + 1, dim))\n",
    "    i = 0\n",
    "    \n",
    "    while s.successful() and s.t < tf:\n",
    "        s.set_f_params(u[i], 0)\n",
    "        yr[i] = s.integrate(s.t+dt)\n",
    "#         print(yr[i])\n",
    "#         print(compute_state_derivatives(0, yr[i], 0, 0, verbose=True))\n",
    "#         _ = raw_input(' ')\n",
    "        i += 1\n",
    "    \n",
    "    return time, yr, u"
   ]
  },
  {
   "cell_type": "markdown",
   "metadata": {},
   "source": [
    "## Simulate ramp"
   ]
  },
  {
   "cell_type": "code",
   "execution_count": 24,
   "metadata": {
    "collapsed": false
   },
   "outputs": [],
   "source": [
    "tf = 10\n",
    "dt = 0.001\n",
    "samples = int(tf / dt)\n",
    "\n",
    "u = np.arange(0.3, 0.5, dt/10)\n",
    "u = np.concatenate((u, np.zeros(samples)))"
   ]
  },
  {
   "cell_type": "code",
   "execution_count": 25,
   "metadata": {
    "collapsed": false,
    "deletable": true,
    "editable": true
   },
   "outputs": [],
   "source": [
    "T, Y, U = simulate_fixed_input(compute_state_derivatives, tf, dt, u)"
   ]
  },
  {
   "cell_type": "code",
   "execution_count": 26,
   "metadata": {
    "collapsed": false,
    "deletable": true,
    "editable": true
   },
   "outputs": [
    {
     "data": {
      "image/png": "[encoded data removed]",
      "text/plain": [
       "<matplotlib.figure.Figure at 0x10f510bd0>"
      ]
     },
     "metadata": {},
     "output_type": "display_data"
    }
   ],
   "source": [
    "titles = ['Piston Displacement', 'Piston Velocity', 'Cap-End Pressure', 'Rod-End Pressure']\n",
    "plt.figure(figsize=(10, 8))\n",
    "for i in range(4):\n",
    "    plt.subplot(3, 2, i + 1)\n",
    "    plt.plot(T, Y[:, i])\n",
    "    plt.title(titles[i])\n",
    "\n",
    "plt.subplot(3, 2, 5)\n",
    "plt.plot(T, U[:len(Y)])\n",
    "plt.title('Normalized Control Input')\n",
    "plt.tight_layout()"
   ]
  },
  {
   "cell_type": "markdown",
   "metadata": {
    "deletable": true,
    "editable": true
   },
   "source": [
    "___"
   ]
  },
  {
   "cell_type": "markdown",
   "metadata": {},
   "source": [
    "## Simulation with PID Controller\n",
    "\n",
    "Create function for PID controller derivatives."
   ]
  },
  {
   "cell_type": "code",
   "execution_count": 14,
   "metadata": {
    "collapsed": true
   },
   "outputs": [],
   "source": [
    "from ivPID import PID"
   ]
  },
  {
   "cell_type": "code",
   "execution_count": 17,
   "metadata": {
    "collapsed": false
   },
   "outputs": [],
   "source": [
    "gains = [1, 1, 1]\n",
    "\n",
    "PID = PID.PID(*gains)"
   ]
  },
  {
   "cell_type": "code",
   "execution_count": null,
   "metadata": {
    "collapsed": true
   },
   "outputs": [],
   "source": [
    "# Simulate controller\n",
    "def simulate_fixed_input(fd, tf, dt, u):\n",
    "    ''' Integrate dynamic equations\n",
    "    Args:\n",
    "        fd (function handle): first order derivative function\n",
    "        tf (float): total time\n",
    "        dt (float): time step\n",
    "    Returns:\n",
    "        time (np.array): time series\n",
    "        yr (np.array): integrated yr\n",
    "        u (np.array): inputs'''\n",
    "\n",
    "    yi = [.01, 0, 3.37e5, 4.5e5]\n",
    "    ti = 0\n",
    "    s = ode(fd).set_integrator('vode', method='bdf')\n",
    "    s.set_initial_value(yi, ti)\n",
    "\n",
    "    s.set_f_params(0.5, 0)\n",
    "\n",
    "    samples = int((tf - ti) / dt)\n",
    "    dim = len(yi)\n",
    "        \n",
    "    time = np.arange(ti, tf+dt, dt)\n",
    "    yr = np.zeros((samples + 1, dim))\n",
    "    i = 0\n",
    "    \n",
    "    while s.successful() and s.t < tf:\n",
    "        s.set_f_params(u[i], 0)\n",
    "        yr[i] = s.integrate(s.t+dt)\n",
    "#         print(yr[i])\n",
    "#         print(compute_state_derivatives(0, yr[i], 0, 0, verbose=True))\n",
    "#         _ = raw_input(' ')\n",
    "        i += 1\n",
    "    \n",
    "    return time, yr, u"
   ]
  },
  {
   "cell_type": "code",
   "execution_count": 11,
   "metadata": {
    "collapsed": false,
    "deletable": true,
    "editable": true
   },
   "outputs": [
    {
     "data": {
      "text/plain": [
       "3.6012444901443452e-07"
      ]
     },
     "execution_count": 11,
     "metadata": {},
     "output_type": "execute_result"
    }
   ],
   "source": [
    "a = get_orifice_area(0.5)\n",
    "a"
   ]
  },
  {
   "cell_type": "code",
   "execution_count": 12,
   "metadata": {
    "collapsed": false,
    "deletable": true,
    "editable": true,
    "scrolled": true
   },
   "outputs": [
    {
     "ename": "TypeError",
     "evalue": "get_flow_through_orifice() takes exactly 3 arguments (2 given)",
     "output_type": "error",
     "traceback": [
      "\u001b[0;31m---------------------------------------------------------------------------\u001b[0m",
      "\u001b[0;31mTypeError\u001b[0m                                 Traceback (most recent call last)",
      "\u001b[0;32m<ipython-input-12-7e48e14114fb>\u001b[0m in \u001b[0;36m<module>\u001b[0;34m()\u001b[0m\n\u001b[0;32m----> 1\u001b[0;31m \u001b[0mget_flow_through_orifice\u001b[0m\u001b[0;34m(\u001b[0m\u001b[0ma\u001b[0m\u001b[0;34m,\u001b[0m \u001b[0;36m4.5\u001b[0m\u001b[0;34m)\u001b[0m\u001b[0;34m\u001b[0m\u001b[0m\n\u001b[0m",
      "\u001b[0;31mTypeError\u001b[0m: get_flow_through_orifice() takes exactly 3 arguments (2 given)"
     ]
    }
   ],
   "source": [
    "get_flow_through_orifice(a, 4.5)"
   ]
  },
  {
   "cell_type": "code",
   "execution_count": 13,
   "metadata": {
    "collapsed": false,
    "deletable": true,
    "editable": true
   },
   "outputs": [],
   "source": [
    "yi = [0.01, 0, 3.37e5, 4.5e5]"
   ]
  },
  {
   "cell_type": "code",
   "execution_count": 14,
   "metadata": {
    "collapsed": false,
    "deletable": true,
    "editable": true
   },
   "outputs": [
    {
     "name": "stdout",
     "output_type": "stream",
     "text": [
      "Qsa: 0.00 \n",
      "Qar: 0.00 \n",
      "Qsb: 0.00 \n",
      "Qbr: 0.00\n",
      "state: [0.01, 0, 337000.0, 450000.0]\n",
      "derivatives: [[0, -0.19999999999998863, 0.0, 0.0]]\n"
     ]
    },
    {
     "data": {
      "text/plain": [
       "[0, -0.19999999999998863, 0.0, 0.0]"
      ]
     },
     "execution_count": 14,
     "metadata": {},
     "output_type": "execute_result"
    }
   ],
   "source": [
    "compute_state_derivatives(0, yi, 0, 0, verbose=True)"
   ]
  },
  {
   "cell_type": "code",
   "execution_count": 15,
   "metadata": {
    "collapsed": false,
    "deletable": true,
    "editable": true
   },
   "outputs": [
    {
     "data": {
      "text/plain": [
       "6e-06"
      ]
     },
     "execution_count": 15,
     "metadata": {},
     "output_type": "execute_result"
    }
   ],
   "source": [
    "pm['ApA'] * 0.01 + pm['VA0']"
   ]
  },
  {
   "cell_type": "markdown",
   "metadata": {
    "collapsed": true,
    "deletable": true,
    "editable": true
   },
   "source": [
    "These results are acceptable for now. The parameters may need tuning. Lets move the analysis to MATLAB."
   ]
  },
  {
   "cell_type": "code",
   "execution_count": 16,
   "metadata": {
    "collapsed": true,
    "deletable": true,
    "editable": true
   },
   "outputs": [],
   "source": [
    "import mat4py"
   ]
  },
  {
   "cell_type": "code",
   "execution_count": 23,
   "metadata": {
    "collapsed": false,
    "deletable": true,
    "editable": true
   },
   "outputs": [],
   "source": [
    "wrap = {'exc': pm}"
   ]
  },
  {
   "cell_type": "code",
   "execution_count": 24,
   "metadata": {
    "collapsed": true,
    "deletable": true,
    "editable": true
   },
   "outputs": [],
   "source": [
    "mat4py.savemat('exc.mat', wrap)"
   ]
  },
  {
   "cell_type": "markdown",
   "metadata": {
    "deletable": true,
    "editable": true
   },
   "source": [
    "___"
   ]
  }
 ],
 "metadata": {
  "kernelspec": {
   "display_name": "Python [conda root]",
   "language": "python",
   "name": "conda-root-py"
  },
  "language_info": {
   "codemirror_mode": {
    "name": "ipython",
    "version": 2
   },
   "file_extension": ".py",
   "mimetype": "text/x-python",
   "name": "python",
   "nbconvert_exporter": "python",
   "pygments_lexer": "ipython2",
   "version": "2.7.13"
  }
 },
 "nbformat": 4,
 "nbformat_minor": 2
}
