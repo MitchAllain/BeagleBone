{
 "cells": [
  {
   "cell_type": "markdown",
   "metadata": {},
   "source": [
    "# Gibbs Sampling for BNIRL\n",
    "See Michini, Cutler, How.\n",
    "\n",
    "Gibbs sampling to form joint posterior over subgoal partitions. Will use action primitives from action-primitives.ipynb\n",
    "\n",
    "Action Likelihood is slightly modified to use approach outlined in notes."
   ]
  },
  {
   "cell_type": "code",
   "execution_count": 1,
   "metadata": {
    "collapsed": true
   },
   "outputs": [],
   "source": [
    "%matplotlib inline\n",
    "import numpy as np\n",
    "import matplotlib.pyplot as plt\n",
    "import matplotlib\n",
    "import pdb\n",
    "from sklearn.preprocessing import normalize"
   ]
  },
  {
   "cell_type": "code",
   "execution_count": 2,
   "metadata": {
    "collapsed": true
   },
   "outputs": [],
   "source": [
    "def rational_actor(subgoal, state):\n",
    "    '''Returns the action primitive tuple corresponding to rational cl controller\n",
    "    \n",
    "    Args:\n",
    "        subgoal (list): n-length vector corresponding to subgoal location\n",
    "        state (list): n-length vector for current state\n",
    "    \n",
    "    Returns:\n",
    "        action_class (np.array): n-length array with action class\n",
    "            e.g., array([1, -1, 1, -1])\n",
    "    '''\n",
    "    action_class = []\n",
    "    \n",
    "    for (sg, st) in zip(subgoal, state):\n",
    "        action_class.append(np.sign(sg - st))\n",
    "    \n",
    "    return np.array(action_class)"
   ]
  },
  {
   "cell_type": "code",
   "execution_count": 3,
   "metadata": {
    "collapsed": false
   },
   "outputs": [
    {
     "data": {
      "text/plain": [
       "array([1, 1, 1])"
      ]
     },
     "execution_count": 3,
     "metadata": {},
     "output_type": "execute_result"
    }
   ],
   "source": [
    "rational_actor([1, 3, 4], [0, 0, 0])"
   ]
  },
  {
   "cell_type": "code",
   "execution_count": 31,
   "metadata": {
    "collapsed": false
   },
   "outputs": [],
   "source": [
    "def bnirl_sampling(states, partition, primitives, verbose=False, debug=False, eta=1):\n",
    "    '''One Gibbs sampling sweep,\n",
    "    run in for loop until it converges\n",
    "    \n",
    "    Args:\n",
    "        states [np.array]: m x n where n is actuators and m is samples\n",
    "        partition [list]: m x 1 partition label for each sample\n",
    "        primitives [np.array]: m x n array describing motion at sample\n",
    "            e.g., primitives[0] = [1, 0, -1, 1]\n",
    "                1: positive velocity or input \n",
    "                0: no velocity,\n",
    "                -1: negative velocity \n",
    "        verbose [bool]: gives more info, for debugging\n",
    "        eta [int]: hyperparameter for CRP\n",
    "    \n",
    "    Returns:\n",
    "        partition [list]: updated partitions after Gibbs sweep\n",
    "        '''\n",
    "    dim = len(states)\n",
    "\n",
    "    if debug:\n",
    "        pdb.set_trace()\n",
    "    \n",
    "    # For each observation\n",
    "    for i, state in enumerate(states):\n",
    "        # Start by recomputing subgoal locations from partition means\n",
    "        sg_means = dict()\n",
    "        for j in set(partition):\n",
    "            sg_mean = []\n",
    "            for act in states.transpose():\n",
    "                sg_mean.append(np.mean([act[k] for k in range(dim) if (partition[k] == j)]))\n",
    "            sg_means[j] = np.array(sg_mean)\n",
    "\n",
    "        if verbose:\n",
    "            print('After observation %i, there are %i partitions with means %s') % (i, len(set(partition)), str(sg_means))\n",
    "        \n",
    "        part_posterior = []\n",
    "\n",
    "        # For each existing partition\n",
    "        for j in set(partition): # existing partitions\n",
    "            crp = partition.count(j) / float(dim - 1 + eta)\n",
    "#             pdb.set_trace()\n",
    "            act_likelihood1 = np.e**(np.linalg.norm(primitives[i] - rational_actor(sg_means[j], state)))\n",
    "#             act_likelihood = 1\n",
    "            # Compute partition assignment posterior\n",
    "            part_posterior.append(crp*act_likelihood1)\n",
    "        # Draw new subgoal uniformly from demo states\n",
    "        new_sg = states[np.random.randint(0, dim)]\n",
    "        crp = eta / float(dim - 1 + eta)\n",
    "        act_likelihood2 = np.e**(np.linalg.norm(primitives - rational_actor(new_sg, state)))\n",
    "#         act_likelihood = 1\n",
    "        part_posterior.append(crp*act_likelihood2)\n",
    "\n",
    "        # Normalize the posterior\n",
    "        part_posterior = np.array(part_posterior) / float(sum(part_posterior))\n",
    "        \n",
    "        if debug:\n",
    "            pdb.set_trace()\n",
    "\n",
    "        # Assign partition\n",
    "        partition[i]= int(np.random.choice(list(set(partition)) + [max(set(partition)) + 1],\n",
    "                                        1, p=part_posterior))        \n",
    "        \n",
    "#         # Consolidate partitions\n",
    "#         unique_part = set(partition)\n",
    "#         if len(unique_part) != (max(unique_part) + 1):\n",
    "\n",
    "            \n",
    "        \n",
    "    return partition"
   ]
  },
  {
   "cell_type": "markdown",
   "metadata": {},
   "source": [
    "# Test with 2D generated points\n",
    "\n",
    "Test with 2D generated points and totally random action primitives"
   ]
  },
  {
   "cell_type": "code",
   "execution_count": 26,
   "metadata": {
    "collapsed": false
   },
   "outputs": [],
   "source": [
    "action_set = [-1, 0, 1]\n",
    "primitives = []\n",
    "states = []\n",
    "dimm = 100\n",
    "\n",
    "for i in range(dimm):\n",
    "    primitives.append(np.random.choice(action_set, 2))\n",
    "\n",
    "for i in range(dimm / 2):\n",
    "    states.append(np.random.normal([2, 2], [1, 3]))\n",
    "\n",
    "for i in range(len(states), dimm):\n",
    "    states.append(np.random.normal([-3, -4], [2, 1]))"
   ]
  },
  {
   "cell_type": "code",
   "execution_count": 27,
   "metadata": {
    "collapsed": true
   },
   "outputs": [],
   "source": [
    "states_tr = np.array(states).transpose()"
   ]
  },
  {
   "cell_type": "code",
   "execution_count": 28,
   "metadata": {
    "collapsed": true
   },
   "outputs": [],
   "source": [
    "plt.style.use('mitch-exp')"
   ]
  },
  {
   "cell_type": "code",
   "execution_count": 29,
   "metadata": {
    "collapsed": false
   },
   "outputs": [
    {
     "data": {
      "text/plain": [
       "array([ 1, -1])"
      ]
     },
     "execution_count": 29,
     "metadata": {},
     "output_type": "execute_result"
    }
   ],
   "source": [
    "primitives[0]"
   ]
  },
  {
   "cell_type": "code",
   "execution_count": 30,
   "metadata": {
    "collapsed": false
   },
   "outputs": [
    {
     "data": {
      "text/plain": [
       "<matplotlib.collections.PathCollection at 0x109fd6150>"
      ]
     },
     "execution_count": 30,
     "metadata": {},
     "output_type": "execute_result"
    },
    {
     "data": {
      "image/png": "[encoded data removed]",
      "text/plain": [
       "<matplotlib.figure.Figure at 0x109f35650>"
      ]
     },
     "metadata": {},
     "output_type": "display_data"
    }
   ],
   "source": [
    "plt.scatter(states_tr[0], states_tr[1])"
   ]
  },
  {
   "cell_type": "markdown",
   "metadata": {},
   "source": [
    "# Prep\n",
    "\n",
    "Assign partition 0 to all points"
   ]
  },
  {
   "cell_type": "code",
   "execution_count": 67,
   "metadata": {
    "collapsed": true
   },
   "outputs": [],
   "source": [
    "partition = [0]*dimm\n",
    "size = []"
   ]
  },
  {
   "cell_type": "code",
   "execution_count": 68,
   "metadata": {
    "collapsed": false,
    "scrolled": true
   },
   "outputs": [],
   "source": [
    "for i in range(30):\n",
    "    partition = bnirl_sampling(np.array(states), partition, np.array(primitives), verbose=False, eta=0.00000001)\n",
    "    size.append(len(set(partition)))"
   ]
  },
  {
   "cell_type": "code",
   "execution_count": 69,
   "metadata": {
    "collapsed": false
   },
   "outputs": [
    {
     "data": {
      "text/plain": [
       "[<matplotlib.lines.Line2D at 0x10c227e50>]"
      ]
     },
     "execution_count": 69,
     "metadata": {},
     "output_type": "execute_result"
    },
    {
     "data": {
      "image/png": "[encoded data removed]",
      "text/plain": [
       "<matplotlib.figure.Figure at 0x10c12a0d0>"
      ]
     },
     "metadata": {},
     "output_type": "display_data"
    }
   ],
   "source": [
    "plt.plot(size)"
   ]
  },
  {
   "cell_type": "code",
   "execution_count": 70,
   "metadata": {
    "collapsed": false
   },
   "outputs": [
    {
     "data": {
      "text/plain": [
       "<matplotlib.collections.PathCollection at 0x10c34b5d0>"
      ]
     },
     "execution_count": 70,
     "metadata": {},
     "output_type": "execute_result"
    },
    {
     "data": {
      "image/png": "[encoded data removed]",
      "text/plain": [
       "<matplotlib.figure.Figure at 0x10c244890>"
      ]
     },
     "metadata": {},
     "output_type": "display_data"
    }
   ],
   "source": [
    "plt.scatter(states_tr[0], states_tr[1], c=partition)"
   ]
  },
  {
   "cell_type": "markdown",
   "metadata": {},
   "source": [
    "# DP k-means\n",
    "\n",
    "From Michael Jordan's paper."
   ]
  },
  {
   "cell_type": "code",
   "execution_count": 272,
   "metadata": {
    "collapsed": false
   },
   "outputs": [],
   "source": [
    "def dp_kmeans(states, partition, verbose=False, debug=False, lamb=1):\n",
    "    '''One Gibbs sampling sweep,\n",
    "    run in for loop until it converges\n",
    "    \n",
    "    Args:\n",
    "        states [np.array]: m x n where n is actuators and m is samples\n",
    "        partition [list]: m x 1 partition label for each sample\n",
    "        primitives [np.array]: m x n array describing motion at sample\n",
    "            e.g., primitives[0] = [1, 0, -1, 1]\n",
    "                1: positive velocity or input \n",
    "                0: no velocity,\n",
    "                -1: negative velocity \n",
    "        verbose [bool]: gives more info, for debugging\n",
    "        lamb [float]: cluster distance penalty, (lambda conlicts with Python)\n",
    "    \n",
    "    Returns:\n",
    "        partition [list]: updated partitions after Gibbs sweep\n",
    "        '''\n",
    "    dim = len(states)\n",
    "\n",
    "    if debug:\n",
    "        pdb.set_trace()\n",
    "    \n",
    "    # For each observation\n",
    "    for i, state in enumerate(states):\n",
    "        # Start by recomputing subgoal locations from partition means\n",
    "        sg_means = dict()\n",
    "        for j in set(partition):\n",
    "            sg_mean = []\n",
    "            for act in states.transpose():\n",
    "                sg_mean.append(np.mean([act[k] for k in range(dim) if (partition[k] == j)]))\n",
    "            sg_means[j] = np.array(sg_mean)\n",
    "\n",
    "        if verbose:\n",
    "            print('After observation %i, there are %i partitions with means %s') % (i, len(set(partition)), str(sg_means))\n",
    "        \n",
    "        cluster_dist = []\n",
    "\n",
    "        # For each existing partition\n",
    "        for j in set(partition): # existing partitions\n",
    "            cluster_dist.append((j, (np.linalg.norm(sg_means[j] - state))))\n",
    "\n",
    "        min_cluster = min(cluster_dist, key=lambda t: t[1])\n",
    "\n",
    "        # Pick closest cluster or form new cluster\n",
    "        if min_cluster[1] < lamb:\n",
    "            partition[i] = min_cluster[0]\n",
    "        else:\n",
    "            partition[i] = max(set(partition)) + 1\n",
    "\n",
    "        if debug:\n",
    "            pdb.set_trace()\n",
    "        \n",
    "    return partition"
   ]
  },
  {
   "cell_type": "code",
   "execution_count": 291,
   "metadata": {
    "collapsed": true
   },
   "outputs": [],
   "source": [
    "partition = [0]*dimm"
   ]
  },
  {
   "cell_type": "code",
   "execution_count": 292,
   "metadata": {
    "collapsed": false
   },
   "outputs": [],
   "source": [
    "for i in range(1):\n",
    "    partition = dp_kmeans(np.array(states), partition, verbose=False, lamb=7)"
   ]
  },
  {
   "cell_type": "markdown",
   "metadata": {
    "collapsed": false
   },
   "source": [
    "# plt.scatter(states_tr[0], states_tr[1], c=partition)"
   ]
  },
  {
   "cell_type": "code",
   "execution_count": null,
   "metadata": {
    "collapsed": true
   },
   "outputs": [],
   "source": []
  }
 ],
 "metadata": {
  "kernelspec": {
   "display_name": "Python [conda root]",
   "language": "python",
   "name": "conda-root-py"
  },
  "language_info": {
   "codemirror_mode": {
    "name": "ipython",
    "version": 2
   },
   "file_extension": ".py",
   "mimetype": "text/x-python",
   "name": "python",
   "nbconvert_exporter": "python",
   "pygments_lexer": "ipython2",
   "version": "2.7.12"
  }
 },
 "nbformat": 4,
 "nbformat_minor": 1
}
